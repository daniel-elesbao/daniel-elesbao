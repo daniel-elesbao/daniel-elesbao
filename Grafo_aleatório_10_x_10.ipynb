{
  "nbformat": 4,
  "nbformat_minor": 0,
  "metadata": {
    "colab": {
      "provenance": [],
      "authorship_tag": "ABX9TyNhyjM5JfkxNI3eWU8k5OA7",
      "include_colab_link": true
    },
    "kernelspec": {
      "name": "python3",
      "display_name": "Python 3"
    },
    "language_info": {
      "name": "python"
    }
  },
  "cells": [
    {
      "cell_type": "markdown",
      "metadata": {
        "id": "view-in-github",
        "colab_type": "text"
      },
      "source": [
        "<a href=\"https://colab.research.google.com/github/daniel-elesbao/daniel-elesbao/blob/main/Grafo_aleat%C3%B3rio_10_x_10.ipynb\" target=\"_parent\"><img src=\"https://colab.research.google.com/assets/colab-badge.svg\" alt=\"Open In Colab\"/></a>"
      ]
    },
    {
      "cell_type": "code",
      "execution_count": 11,
      "metadata": {
        "colab": {
          "base_uri": "https://localhost:8080/"
        },
        "id": "OrmKIQu_AUml",
        "outputId": "9cb82f11-ac6e-4145-dab4-01d16db1fdfc"
      },
      "outputs": [
        {
          "output_type": "stream",
          "name": "stdout",
          "text": [
            "  A B C D E F G H I J \n",
            "A 0 0 1 0 1 1 0 1 0 1 \n",
            "B 0 0 0 0 0 0 1 0 1 1 \n",
            "C 1 0 0 1 1 1 0 0 0 1 \n",
            "D 0 0 1 0 0 1 0 1 1 0 \n",
            "E 1 0 1 0 0 1 1 1 0 0 \n",
            "F 1 0 1 1 1 0 1 1 1 1 \n",
            "G 0 1 0 0 1 1 0 1 1 1 \n",
            "H 1 0 0 1 1 1 1 0 0 0 \n",
            "I 0 1 0 1 0 1 1 0 0 1 \n",
            "J 1 1 1 0 0 1 1 0 1 0 \n"
          ]
        }
      ],
      "source": [
        "# Gerando uma matriz aleatória de 10 x 10\n",
        "\n",
        "import random #importa a biblioteca random que realizará o sorteio das arestas\n",
        "\n",
        "def gerar_matriz(n): #função que gera aleaoriamente a matriz das arestas do grafo\n",
        "    matriz = []\n",
        "    for i in range(n):\n",
        "        linha = []\n",
        "        for j in range(n):\n",
        "            if i == j: # Como não existem loops neste grafo a diagonal principal é zero pois os vértices não devem se comunicar consigo mesmos\n",
        "                linha.append(0)\n",
        "            elif i < j: # Os elementos acima da diagonal são gerados aleatoriamente pelo algoritmo da biblioteca random\n",
        "               linha.append(random.randint(0,1))\n",
        "            else: # por se tratar de um grafo não direcionado os elementos abaixo da diagonal espelham aqueles acima da diagonal\n",
        "               linha.append(matriz[j][i])\n",
        "        matriz.append(linha)\n",
        "    return matriz\n",
        "\n",
        "vertices = [\"A\", \"B\", \"C\", \"D\", \"E\", \"F\", \"G\", \"H\", \"I\", \"J\"] # Nomeia os vértices com letras em ordem alfabética\n",
        "matriz = gerar_matriz(10) #chama a função que gera a matriz aleatória do grafo\n",
        "print(\"  \", end=\"\")\n",
        "for i in vertices:\n",
        "    print(i, end=\" \") #Imprime a primeira linha com os títulos dos vértices de destino\n",
        "print(\"\")\n",
        "for i in range(10):\n",
        "    print(vertices[i], end=\" \")\n",
        "    for j in range(10):\n",
        "        print(matriz[i][j], end=\" \") #Imprime a matriz linha por linha com a primeira linha nomeando os vértices de origem\n",
        "    print(\"\")"
      ]
    }
  ]
}